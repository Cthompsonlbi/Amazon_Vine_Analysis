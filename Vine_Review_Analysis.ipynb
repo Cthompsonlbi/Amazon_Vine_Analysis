{
  "nbformat": 4,
  "nbformat_minor": 0,
  "metadata": {
    "colab": {
      "name": "Vine_Review_Analysis.ipynb",
      "provenance": [],
      "include_colab_link": true
    },
    "kernelspec": {
      "name": "python3",
      "display_name": "Python 3"
    },
    "nteract": {
      "version": "0.12.3"
    },
    "language_info": {
      "name": "python"
    }
  },
  "cells": [
    {
      "cell_type": "markdown",
      "metadata": {
        "id": "view-in-github",
        "colab_type": "text"
      },
      "source": [
        "<a href=\"https://colab.research.google.com/github/Cthompsonlbi/Amazon_Vine_Analysis/blob/main/Vine_Review_Analysis.ipynb\" target=\"_parent\"><img src=\"https://colab.research.google.com/assets/colab-badge.svg\" alt=\"Open In Colab\"/></a>"
      ]
    },
    {
      "cell_type": "code",
      "metadata": {
        "id": "V58rxea0HqSa",
        "colab": {
          "base_uri": "https://localhost:8080/"
        },
        "outputId": "294c4a2b-1a2b-4f6e-b93f-4bf0150dc162"
      },
      "source": [
        "import os\n",
        "# Find the latest version of spark 3.0 from http://www.apache.org/dist/spark/ and enter as the spark version\n",
        "# For example:\n",
        "# spark_version = 'spark-3.0.3'\n",
        "spark_version = 'spark-3.0.3'\n",
        "os.environ['SPARK_VERSION']=spark_version\n",
        "\n",
        "# Install Spark and Java\n",
        "!apt-get update\n",
        "!apt-get install openjdk-11-jdk-headless -qq > /dev/null\n",
        "!wget -q http://www.apache.org/dist/spark/$SPARK_VERSION/$SPARK_VERSION-bin-hadoop2.7.tgz\n",
        "!tar xf $SPARK_VERSION-bin-hadoop2.7.tgz\n",
        "!pip install -q findspark\n",
        "\n",
        "# Set Environment Variables\n",
        "import os\n",
        "os.environ[\"JAVA_HOME\"] = \"/usr/lib/jvm/java-11-openjdk-amd64\"\n",
        "os.environ[\"SPARK_HOME\"] = f\"/content/{spark_version}-bin-hadoop2.7\"\n",
        "\n",
        "# Start a SparkSession\n",
        "import findspark\n",
        "findspark.init()"
      ],
      "execution_count": 3,
      "outputs": [
        {
          "output_type": "stream",
          "name": "stdout",
          "text": [
            "\r0% [Working]\r            \rGet:1 http://ppa.launchpad.net/c2d4u.team/c2d4u4.0+/ubuntu bionic InRelease [15.9 kB]\n",
            "\r0% [Waiting for headers] [Waiting for headers] [Connected to cloud.r-project.or\r                                                                               \rHit:2 http://archive.ubuntu.com/ubuntu bionic InRelease\n",
            "\r0% [Waiting for headers] [Connected to cloud.r-project.org (65.9.78.99)] [1 InR\r                                                                               \rGet:3 http://archive.ubuntu.com/ubuntu bionic-updates InRelease [88.7 kB]\n",
            "\r                                                                               \rGet:4 http://security.ubuntu.com/ubuntu bionic-security InRelease [88.7 kB]\n",
            "\r0% [3 InRelease 15.6 kB/88.7 kB 18%] [4 InRelease 14.2 kB/88.7 kB 16%] [Waiting\r0% [2 InRelease gpgv 242 kB] [3 InRelease 43.1 kB/88.7 kB 49%] [4 InRelease 14.\r                                                                               \rGet:5 https://cloud.r-project.org/bin/linux/ubuntu bionic-cran40/ InRelease [3,626 B]\n",
            "\r0% [2 InRelease gpgv 242 kB] [3 InRelease 47.5 kB/88.7 kB 54%] [4 InRelease 14.\r0% [2 InRelease gpgv 242 kB] [3 InRelease 47.5 kB/88.7 kB 54%] [4 InRelease 14.\r                                                                               \rHit:6 http://ppa.launchpad.net/cran/libgit2/ubuntu bionic InRelease\n",
            "\r0% [2 InRelease gpgv 242 kB] [3 InRelease 47.5 kB/88.7 kB 54%] [4 InRelease 43.\r0% [2 InRelease gpgv 242 kB] [Waiting for headers] [4 InRelease 43.1 kB/88.7 kB\r0% [2 InRelease gpgv 242 kB] [Waiting for headers] [Waiting for headers] [Waiti\r                                                                               \rGet:7 http://archive.ubuntu.com/ubuntu bionic-backports InRelease [74.6 kB]\n",
            "\r0% [2 InRelease gpgv 242 kB] [7 InRelease 8,394 B/74.6 kB 11%] [Waiting for hea\r                                                                               \rGet:8 http://ppa.launchpad.net/deadsnakes/ppa/ubuntu bionic InRelease [15.9 kB]\n",
            "Get:9 http://ppa.launchpad.net/graphics-drivers/ppa/ubuntu bionic InRelease [21.3 kB]\n",
            "Ign:10 https://developer.download.nvidia.com/compute/cuda/repos/ubuntu1804/x86_64  InRelease\n",
            "Ign:11 https://developer.download.nvidia.com/compute/machine-learning/repos/ubuntu1804/x86_64  InRelease\n",
            "Get:12 https://developer.download.nvidia.com/compute/cuda/repos/ubuntu1804/x86_64  Release [696 B]\n",
            "Hit:13 https://developer.download.nvidia.com/compute/machine-learning/repos/ubuntu1804/x86_64  Release\n",
            "Get:14 https://developer.download.nvidia.com/compute/cuda/repos/ubuntu1804/x86_64  Release.gpg [836 B]\n",
            "Get:15 http://ppa.launchpad.net/c2d4u.team/c2d4u4.0+/ubuntu bionic/main Sources [1,826 kB]\n",
            "Get:16 http://ppa.launchpad.net/c2d4u.team/c2d4u4.0+/ubuntu bionic/main amd64 Packages [936 kB]\n",
            "Get:17 http://archive.ubuntu.com/ubuntu bionic-updates/main amd64 Packages [3,004 kB]\n",
            "Get:18 http://archive.ubuntu.com/ubuntu bionic-updates/multiverse amd64 Packages [29.0 kB]\n",
            "Get:19 http://archive.ubuntu.com/ubuntu bionic-updates/universe amd64 Packages [2,248 kB]\n",
            "Get:20 http://archive.ubuntu.com/ubuntu bionic-updates/restricted amd64 Packages [816 kB]\n",
            "Get:21 http://security.ubuntu.com/ubuntu bionic-security/universe amd64 Packages [1,470 kB]\n",
            "Get:22 http://security.ubuntu.com/ubuntu bionic-security/main amd64 Packages [2,565 kB]\n",
            "Get:23 http://security.ubuntu.com/ubuntu bionic-security/multiverse amd64 Packages [21.1 kB]\n",
            "Get:24 http://security.ubuntu.com/ubuntu bionic-security/restricted amd64 Packages [783 kB]\n",
            "Get:25 http://ppa.launchpad.net/deadsnakes/ppa/ubuntu bionic/main amd64 Packages [45.3 kB]\n",
            "Get:26 http://ppa.launchpad.net/graphics-drivers/ppa/ubuntu bionic/main amd64 Packages [42.8 kB]\n",
            "Get:28 https://developer.download.nvidia.com/compute/cuda/repos/ubuntu1804/x86_64  Packages [917 kB]\n",
            "Fetched 15.0 MB in 2s (6,925 kB/s)\n",
            "Reading package lists... Done\n"
          ]
        }
      ]
    },
    {
      "cell_type": "code",
      "metadata": {
        "id": "_xKwTpATHqSe",
        "colab": {
          "base_uri": "https://localhost:8080/"
        },
        "outputId": "32f03c3f-1ef4-4c1a-cfdf-537c55bcf26b"
      },
      "source": [
        "# Download the Postgres driver that will allow Spark to interact with Postgres.\n",
        "!wget https://jdbc.postgresql.org/download/postgresql-42.2.16.jar"
      ],
      "execution_count": 4,
      "outputs": [
        {
          "output_type": "stream",
          "name": "stdout",
          "text": [
            "--2022-02-17 02:03:02--  https://jdbc.postgresql.org/download/postgresql-42.2.16.jar\n",
            "Resolving jdbc.postgresql.org (jdbc.postgresql.org)... 72.32.157.228, 2001:4800:3e1:1::228\n",
            "Connecting to jdbc.postgresql.org (jdbc.postgresql.org)|72.32.157.228|:443... connected.\n",
            "HTTP request sent, awaiting response... 200 OK\n",
            "Length: 1002883 (979K) [application/java-archive]\n",
            "Saving to: ‘postgresql-42.2.16.jar’\n",
            "\n",
            "postgresql-42.2.16. 100%[===================>] 979.38K  1.68MB/s    in 0.6s    \n",
            "\n",
            "2022-02-17 02:03:04 (1.68 MB/s) - ‘postgresql-42.2.16.jar’ saved [1002883/1002883]\n",
            "\n"
          ]
        }
      ]
    },
    {
      "cell_type": "code",
      "metadata": {
        "id": "MMqDAjVS0KN9"
      },
      "source": [
        "#Create a Spark Session\n",
        "from pyspark.sql import SparkSession\n",
        "spark = SparkSession.builder.appName(\"M16-Amazon-Challenge\").config(\"spark.driver.extraClassPath\",\"/content/postgresql-42.2.16.jar\").getOrCreate()"
      ],
      "execution_count": 5,
      "outputs": []
    },
    {
      "cell_type": "code",
      "source": [
        "#Connect to database and pull data from VinesTable\n",
        "df = spark.read \\\n",
        "    .format(\"jdbc\") \\\n",
        "    .option(\"url\", \"jdbc:postgresql://dataviz.cmfewojoukh8.us-east-1.rds.amazonaws.com:5432/Tools\") \\\n",
        "    .option(\"dbtable\", \"vine_table\") \\\n",
        "    .option(\"user\", \"postgres\") \\\n",
        "    .option(\"password\", \"UCFRHPMyC21!?\") \\\n",
        "    .option(\"driver\", \"org.postgresql.Driver\") \\\n",
        "    .load()\n"
      ],
      "metadata": {
        "id": "1LX_KprVLz21"
      },
      "execution_count": 6,
      "outputs": []
    },
    {
      "cell_type": "code",
      "source": [
        "#Check the Schema to make sure types are correct\n",
        "df.printSchema()"
      ],
      "metadata": {
        "colab": {
          "base_uri": "https://localhost:8080/"
        },
        "id": "RfjXzuS8kd87",
        "outputId": "4b27275e-92a9-492a-c6af-3064592e6b4e"
      },
      "execution_count": 7,
      "outputs": [
        {
          "output_type": "stream",
          "name": "stdout",
          "text": [
            "root\n",
            " |-- review_id: string (nullable = true)\n",
            " |-- star_rating: integer (nullable = true)\n",
            " |-- helpful_votes: integer (nullable = true)\n",
            " |-- total_votes: integer (nullable = true)\n",
            " |-- vine: string (nullable = true)\n",
            " |-- verified_purchase: string (nullable = true)\n",
            "\n"
          ]
        }
      ]
    },
    {
      "cell_type": "code",
      "source": [
        "#Just showing some of the data pulled from the database to become familiar with the data\n",
        "df.show()"
      ],
      "metadata": {
        "colab": {
          "base_uri": "https://localhost:8080/"
        },
        "id": "Sk41JhqkkjZF",
        "outputId": "16c5c7f7-8cea-4909-ed1c-19c2f99e7f11"
      },
      "execution_count": 8,
      "outputs": [
        {
          "output_type": "stream",
          "name": "stdout",
          "text": [
            "+--------------+-----------+-------------+-----------+----+-----------------+\n",
            "|     review_id|star_rating|helpful_votes|total_votes|vine|verified_purchase|\n",
            "+--------------+-----------+-------------+-----------+----+-----------------+\n",
            "|R2UM5QMHBHC90Q|          5|            0|          0|   N|                Y|\n",
            "|  RF0D1LEIF6L7|          4|            0|          0|   N|                Y|\n",
            "|  RM6YKIWQVNSY|          1|            6|          6|   N|                Y|\n",
            "|R1RL3L68ASPS36|          4|            0|          0|   N|                Y|\n",
            "|R1U4XFBFAG34CY|          5|            0|          0|   N|                Y|\n",
            "|R3KFIK8P0I91PL|          5|            0|          0|   N|                Y|\n",
            "| RENOAY76PPK1O|          5|            0|          0|   N|                Y|\n",
            "| RINV884I0NL5V|          1|            0|          0|   N|                Y|\n",
            "| R5KJH6CXZH2PX|          5|            0|          0|   N|                Y|\n",
            "| RO69JF6QWD0W1|          5|            0|          0|   N|                Y|\n",
            "|R3L9NQBH3FI55C|          4|            1|          1|   N|                Y|\n",
            "| R4YH95YPHVU0C|          5|            0|          0|   N|                Y|\n",
            "|R10M1WWDDQBGG2|          2|            0|          0|   N|                Y|\n",
            "| RV3KWQBTNIO62|          5|            1|          1|   N|                Y|\n",
            "|R1M7YUNLZI0G9F|          5|            1|          1|   N|                Y|\n",
            "|R2MTL2D4E4HEF4|          5|            0|          0|   N|                Y|\n",
            "| RXAHWIC1584UQ|          5|           20|         23|   N|                Y|\n",
            "| RMOIQFERVQDWS|          5|            0|          0|   N|                Y|\n",
            "| R710G45MKODY9|          2|            1|          1|   N|                Y|\n",
            "|R23ZIUGUM7TBMY|          1|            0|          1|   N|                Y|\n",
            "+--------------+-----------+-------------+-----------+----+-----------------+\n",
            "only showing top 20 rows\n",
            "\n"
          ]
        }
      ]
    },
    {
      "cell_type": "code",
      "source": [
        "#Just a count to ensure all data is present\n",
        "df.count()"
      ],
      "metadata": {
        "colab": {
          "base_uri": "https://localhost:8080/"
        },
        "id": "6MkDEnbnl0rK",
        "outputId": "db8b5de2-721a-4f8a-d744-e6e5e4e35432"
      },
      "execution_count": 9,
      "outputs": [
        {
          "output_type": "execute_result",
          "data": {
            "text/plain": [
              "1741100"
            ]
          },
          "metadata": {},
          "execution_count": 9
        }
      ]
    },
    {
      "cell_type": "code",
      "source": [
        "#df.write.csv(\"Desktop/UCF/git/Amazon_Vine_Analysis/data/data.csv\")"
      ],
      "metadata": {
        "id": "_V-PVuXNnFjs"
      },
      "execution_count": null,
      "outputs": []
    },
    {
      "cell_type": "code",
      "source": [
        "#from google.colab import drive\n",
        "#drive.mount('drive')\n",
        "\n",
        "#df.write.csv('/content/drive/My Drive/filename.csv')"
      ],
      "metadata": {
        "colab": {
          "base_uri": "https://localhost:8080/"
        },
        "id": "01tKSCTV6R4w",
        "outputId": "37c4f4d1-7cc3-4d90-da33-9757e8c01c7a"
      },
      "execution_count": null,
      "outputs": [
        {
          "output_type": "stream",
          "name": "stdout",
          "text": [
            "Drive already mounted at drive; to attempt to forcibly remount, call drive.mount(\"drive\", force_remount=True).\n"
          ]
        }
      ]
    },
    {
      "cell_type": "code",
      "source": [
        "#df.write.csv('/content/drive/My Drive/filename.csv')"
      ],
      "metadata": {
        "id": "C7n50JsN8C4s"
      },
      "execution_count": null,
      "outputs": []
    },
    {
      "cell_type": "code",
      "metadata": {
        "id": "Exuo6ebUsCqW"
      },
      "source": [
        "#TotalValue20df = Totaldf.where(Totaldf.total_votes >= '20').show()"
      ],
      "execution_count": null,
      "outputs": []
    },
    {
      "cell_type": "code",
      "source": [
        "#TotalValue20df.printSchema()\n"
      ],
      "metadata": {
        "id": "5W3LaZdUPHUC"
      },
      "execution_count": null,
      "outputs": []
    },
    {
      "cell_type": "code",
      "source": [
        "#Don't need all columns, just selecting the columns required for the deliverables in the dataframe below\n",
        "rev_df = df.select([\"star_rating\",\"helpful_votes\",\"total_votes\",\"vine\",\"verified_purchase\"])\n",
        "rev_df.show()"
      ],
      "metadata": {
        "colab": {
          "base_uri": "https://localhost:8080/"
        },
        "id": "iXL3U201AHMe",
        "outputId": "3f853a29-b91b-407a-e72b-8178c359bda2"
      },
      "execution_count": 10,
      "outputs": [
        {
          "output_type": "stream",
          "name": "stdout",
          "text": [
            "+-----------+-------------+-----------+----+-----------------+\n",
            "|star_rating|helpful_votes|total_votes|vine|verified_purchase|\n",
            "+-----------+-------------+-----------+----+-----------------+\n",
            "|          5|            0|          0|   N|                Y|\n",
            "|          4|            0|          0|   N|                Y|\n",
            "|          1|            6|          6|   N|                Y|\n",
            "|          4|            0|          0|   N|                Y|\n",
            "|          5|            0|          0|   N|                Y|\n",
            "|          5|            0|          0|   N|                Y|\n",
            "|          5|            0|          0|   N|                Y|\n",
            "|          1|            0|          0|   N|                Y|\n",
            "|          5|            0|          0|   N|                Y|\n",
            "|          5|            0|          0|   N|                Y|\n",
            "|          4|            1|          1|   N|                Y|\n",
            "|          5|            0|          0|   N|                Y|\n",
            "|          2|            0|          0|   N|                Y|\n",
            "|          5|            1|          1|   N|                Y|\n",
            "|          5|            1|          1|   N|                Y|\n",
            "|          5|            0|          0|   N|                Y|\n",
            "|          5|           20|         23|   N|                Y|\n",
            "|          5|            0|          0|   N|                Y|\n",
            "|          2|            1|          1|   N|                Y|\n",
            "|          1|            0|          1|   N|                Y|\n",
            "+-----------+-------------+-----------+----+-----------------+\n",
            "only showing top 20 rows\n",
            "\n"
          ]
        }
      ]
    },
    {
      "cell_type": "code",
      "source": [
        "#Just filters the data returning values of 20 or greater from the \"total votes\" column\n",
        "rev20_df = rev_df.filter(rev_df[\"total_votes\"]>= 20)\n",
        "rev20_df.show(10)"
      ],
      "metadata": {
        "colab": {
          "base_uri": "https://localhost:8080/"
        },
        "id": "dHICXrWNA22m",
        "outputId": "f30218ef-63bc-4eea-f615-9e526435241e"
      },
      "execution_count": 11,
      "outputs": [
        {
          "output_type": "stream",
          "name": "stdout",
          "text": [
            "+-----------+-------------+-----------+----+-----------------+\n",
            "|star_rating|helpful_votes|total_votes|vine|verified_purchase|\n",
            "+-----------+-------------+-----------+----+-----------------+\n",
            "|          5|           20|         23|   N|                Y|\n",
            "|          5|           46|         51|   N|                Y|\n",
            "|          4|           43|         43|   N|                Y|\n",
            "|          5|           10|         22|   N|                Y|\n",
            "|          5|           35|         36|   N|                Y|\n",
            "|          1|           39|         45|   N|                N|\n",
            "|          1|           21|         22|   N|                N|\n",
            "|          5|            5|         21|   N|                Y|\n",
            "|          1|            1|         22|   N|                Y|\n",
            "|          5|           23|         24|   N|                N|\n",
            "+-----------+-------------+-----------+----+-----------------+\n",
            "only showing top 10 rows\n",
            "\n"
          ]
        }
      ]
    },
    {
      "cell_type": "code",
      "source": [
        "#from the total votes column that had greater than 20 votes, it calculates those that have more favorable votes(helpful_votes\n",
        "rev50_df = rev20_df.filter(rev20_df[\"helpful_votes\"]/rev20_df[\"total_votes\"] >= 0.50)\n",
        "rev50_df.show(5)"
      ],
      "metadata": {
        "colab": {
          "base_uri": "https://localhost:8080/"
        },
        "id": "MItPzNg4BR2G",
        "outputId": "fec53191-7e77-4fbd-ce45-b724571da699"
      },
      "execution_count": 12,
      "outputs": [
        {
          "output_type": "stream",
          "name": "stdout",
          "text": [
            "+-----------+-------------+-----------+----+-----------------+\n",
            "|star_rating|helpful_votes|total_votes|vine|verified_purchase|\n",
            "+-----------+-------------+-----------+----+-----------------+\n",
            "|          5|           20|         23|   N|                Y|\n",
            "|          5|           46|         51|   N|                Y|\n",
            "|          4|           43|         43|   N|                Y|\n",
            "|          5|           35|         36|   N|                Y|\n",
            "|          1|           39|         45|   N|                N|\n",
            "+-----------+-------------+-----------+----+-----------------+\n",
            "only showing top 5 rows\n",
            "\n"
          ]
        }
      ]
    },
    {
      "cell_type": "code",
      "source": [
        "#Filters the number of people who posted favorable reviews that had paid vine accounts\n",
        "paid_rev_df = rev50_df.filter(rev50_df[\"vine\"]== \"Y\")\n",
        "paid_rev_df.show(5)"
      ],
      "metadata": {
        "colab": {
          "base_uri": "https://localhost:8080/"
        },
        "id": "uuA-W6uXB7gF",
        "outputId": "092a7229-cdde-4d4c-cb4b-987d8abd1469"
      },
      "execution_count": 13,
      "outputs": [
        {
          "output_type": "stream",
          "name": "stdout",
          "text": [
            "+-----------+-------------+-----------+----+-----------------+\n",
            "|star_rating|helpful_votes|total_votes|vine|verified_purchase|\n",
            "+-----------+-------------+-----------+----+-----------------+\n",
            "|          5|           38|         41|   Y|                N|\n",
            "|          5|          175|        181|   Y|                N|\n",
            "|          4|           63|         70|   Y|                N|\n",
            "|          2|           36|         40|   Y|                N|\n",
            "|          5|           19|         24|   Y|                N|\n",
            "+-----------+-------------+-----------+----+-----------------+\n",
            "only showing top 5 rows\n",
            "\n"
          ]
        }
      ]
    },
    {
      "cell_type": "code",
      "source": [
        "#Summary Screen shot\n",
        "paid_rev_df.describe().show()"
      ],
      "metadata": {
        "colab": {
          "base_uri": "https://localhost:8080/"
        },
        "id": "irb42RYDCXTi",
        "outputId": "9a791687-a4ad-47b3-b3be-b5ced68f794d"
      },
      "execution_count": 14,
      "outputs": [
        {
          "output_type": "stream",
          "name": "stdout",
          "text": [
            "+-------+------------------+-----------------+------------------+----+-----------------+\n",
            "|summary|       star_rating|    helpful_votes|       total_votes|vine|verified_purchase|\n",
            "+-------+------------------+-----------------+------------------+----+-----------------+\n",
            "|  count|               285|              285|               285| 285|              285|\n",
            "|   mean| 4.326315789473684|48.12280701754386| 53.89122807017544|null|             null|\n",
            "| stddev|0.9580140689279564|44.39073869889702|46.634087607753834|null|             null|\n",
            "|    min|                 1|               12|                20|   Y|                N|\n",
            "|    max|                 5|              340|               352|   Y|                Y|\n",
            "+-------+------------------+-----------------+------------------+----+-----------------+\n",
            "\n"
          ]
        }
      ]
    },
    {
      "cell_type": "code",
      "source": [
        "#Filters the number of people who posted favorable reviews that had unpaid vine accounts\n",
        "unpaid_rev_df = rev50_df.filter(rev50_df[\"vine\"] == \"N\")\n",
        "unpaid_rev_df.show(5)"
      ],
      "metadata": {
        "colab": {
          "base_uri": "https://localhost:8080/"
        },
        "id": "1A_iaoz3ChBd",
        "outputId": "79d210e4-53d5-4076-ca9e-3e9a50da8045"
      },
      "execution_count": 15,
      "outputs": [
        {
          "output_type": "stream",
          "name": "stdout",
          "text": [
            "+-----------+-------------+-----------+----+-----------------+\n",
            "|star_rating|helpful_votes|total_votes|vine|verified_purchase|\n",
            "+-----------+-------------+-----------+----+-----------------+\n",
            "|          5|           20|         23|   N|                Y|\n",
            "|          5|           46|         51|   N|                Y|\n",
            "|          4|           43|         43|   N|                Y|\n",
            "|          5|           35|         36|   N|                Y|\n",
            "|          1|           39|         45|   N|                N|\n",
            "+-----------+-------------+-----------+----+-----------------+\n",
            "only showing top 5 rows\n",
            "\n"
          ]
        }
      ]
    },
    {
      "cell_type": "code",
      "source": [
        "#Summary Screen shot\n",
        "unpaid_rev_df.describe().show()"
      ],
      "metadata": {
        "colab": {
          "base_uri": "https://localhost:8080/"
        },
        "id": "RoccrDpMDHlO",
        "outputId": "c0586913-cdb5-438d-ba42-e17b21e3a57f"
      },
      "execution_count": 16,
      "outputs": [
        {
          "output_type": "stream",
          "name": "stdout",
          "text": [
            "+-------+------------------+-----------------+-----------------+-----+-----------------+\n",
            "|summary|       star_rating|    helpful_votes|      total_votes| vine|verified_purchase|\n",
            "+-------+------------------+-----------------+-----------------+-----+-----------------+\n",
            "|  count|             31545|            31545|            31545|31545|            31545|\n",
            "|   mean| 3.683087652559835|47.51881439213822|51.85953399904898| null|             null|\n",
            "| stddev|1.5261357705051182|84.07126117455323|87.94593778112954| null|             null|\n",
            "|    min|                 1|               10|               20|    N|                N|\n",
            "|    max|                 5|             4760|             4858|    N|                Y|\n",
            "+-------+------------------+-----------------+-----------------+-----+-----------------+\n",
            "\n"
          ]
        }
      ]
    },
    {
      "cell_type": "code",
      "source": [
        "#Number of 5 star ratings by paid vines\n",
        "paid_5star= paid_rev_df[paid_rev_df[\"star_rating\"]==5].count()\n",
        "paid_5star"
      ],
      "metadata": {
        "colab": {
          "base_uri": "https://localhost:8080/"
        },
        "id": "OR1Pv2gYEAZ1",
        "outputId": "df1579fb-ba9c-48ea-b7e1-98a7ba02cfb3"
      },
      "execution_count": 17,
      "outputs": [
        {
          "output_type": "execute_result",
          "data": {
            "text/plain": [
              "163"
            ]
          },
          "metadata": {},
          "execution_count": 17
        }
      ]
    },
    {
      "cell_type": "code",
      "source": [
        "#Number of paind vines\n",
        "paid_rev = paid_rev_df.count()\n",
        "paid_rev"
      ],
      "metadata": {
        "colab": {
          "base_uri": "https://localhost:8080/"
        },
        "id": "OuIyv3YfEbGV",
        "outputId": "95b1018a-08ea-4004-bcf5-ed6d94ff834c"
      },
      "execution_count": 18,
      "outputs": [
        {
          "output_type": "execute_result",
          "data": {
            "text/plain": [
              "285"
            ]
          },
          "metadata": {},
          "execution_count": 18
        }
      ]
    },
    {
      "cell_type": "code",
      "source": [
        "# Percentage of votes that are 5 star by paid vines\n",
        "percent_paid_5star = paid_5star/paid_rev * 100\n",
        "percent_paid_5star"
      ],
      "metadata": {
        "colab": {
          "base_uri": "https://localhost:8080/"
        },
        "id": "v0Kv0PW-EoeM",
        "outputId": "62afc103-1da7-438f-c228-8e02e62a4c41"
      },
      "execution_count": 19,
      "outputs": [
        {
          "output_type": "execute_result",
          "data": {
            "text/plain": [
              "57.19298245614035"
            ]
          },
          "metadata": {},
          "execution_count": 19
        }
      ]
    },
    {
      "cell_type": "code",
      "source": [
        "#Number of 5 star ratings by unpaid vines\n",
        "unpaid_5star = unpaid_rev_df[unpaid_rev_df['star_rating']==5].count()\n",
        "unpaid_5star"
      ],
      "metadata": {
        "colab": {
          "base_uri": "https://localhost:8080/"
        },
        "id": "W_VxJ-d0FByt",
        "outputId": "2e97342a-dcbc-4883-d0e5-6d1b8edeefbf"
      },
      "execution_count": 20,
      "outputs": [
        {
          "output_type": "execute_result",
          "data": {
            "text/plain": [
              "14614"
            ]
          },
          "metadata": {},
          "execution_count": 20
        }
      ]
    },
    {
      "cell_type": "code",
      "source": [
        "#Number of unpaid vines\n",
        "unpaid_rev = unpaid_rev_df.count()\n",
        "unpaid_rev"
      ],
      "metadata": {
        "colab": {
          "base_uri": "https://localhost:8080/"
        },
        "id": "ISBYwv5JFn1W",
        "outputId": "6c13602c-e9da-4eba-c966-653315aa76a9"
      },
      "execution_count": 21,
      "outputs": [
        {
          "output_type": "execute_result",
          "data": {
            "text/plain": [
              "31545"
            ]
          },
          "metadata": {},
          "execution_count": 21
        }
      ]
    },
    {
      "cell_type": "code",
      "source": [
        "# Percentage of votes that are 5 star by unpaid vines\n",
        "percent_unpaid_5star = unpaid_5star/unpaid_rev * 100\n",
        "percent_unpaid_5star"
      ],
      "metadata": {
        "colab": {
          "base_uri": "https://localhost:8080/"
        },
        "id": "s5bnsGWHF3Nk",
        "outputId": "9f573314-4c95-4bd4-fc0a-46e55bd3892a"
      },
      "execution_count": 22,
      "outputs": [
        {
          "output_type": "execute_result",
          "data": {
            "text/plain": [
              "46.32746869551435"
            ]
          },
          "metadata": {},
          "execution_count": 22
        }
      ]
    }
  ]
}